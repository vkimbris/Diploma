{
 "cells": [
  {
   "cell_type": "code",
   "execution_count": 15,
   "metadata": {},
   "outputs": [],
   "source": [
    "import random\n",
    "\n",
    "import numpy as np\n",
    "import pandas as pd\n",
    "\n",
    "import torch\n",
    "import torch.nn as nn\n",
    "\n",
    "import matplotlib.pyplot as plt\n",
    "\n",
    "from pyrl.environments import DiceRolling, BetDiceRolling\n",
    "from pyrl.agents import Agent\n",
    "from pyrl.exp import Experiment\n",
    "\n",
    "from pyrl.tools import State, Action, DiscreteState, DiscreteAction\n",
    "from pyrl.tabular import Q\n",
    "from pyrl.tabular.algorithms import q_learning\n",
    "\n",
    "\n",
    "from typing import List"
   ]
  },
  {
   "cell_type": "code",
   "execution_count": 2,
   "metadata": {},
   "outputs": [],
   "source": [
    "def random_policy(state: DiscreteState, available_actions: List[DiscreteAction]) -> DiscreteAction:\n",
    "    return random.choice(available_actions)"
   ]
  },
  {
   "attachments": {},
   "cell_type": "markdown",
   "metadata": {},
   "source": [
    "### Dice rolling"
   ]
  },
  {
   "cell_type": "code",
   "execution_count": 9,
   "metadata": {},
   "outputs": [],
   "source": [
    "environment = DiceRolling()\n",
    "\n",
    "exp = Experiment(environment)"
   ]
  },
  {
   "cell_type": "code",
   "execution_count": 10,
   "metadata": {},
   "outputs": [
    {
     "name": "stderr",
     "output_type": "stream",
     "text": [
      "100%|██████████| 10000/10000 [00:00<00:00, 252106.99it/s]\n"
     ]
    }
   ],
   "source": [
    "agent = Agent(random_policy)\n",
    "\n",
    "history = exp.explore(agent, 10000)"
   ]
  },
  {
   "cell_type": "code",
   "execution_count": 11,
   "metadata": {},
   "outputs": [],
   "source": [
    "S, A = environment.spaces()\n",
    "\n",
    "q = Q(S, A)\n",
    "\n",
    "optimal_q, optimal_policy = q_learning(q, history)"
   ]
  },
  {
   "cell_type": "code",
   "execution_count": 12,
   "metadata": {},
   "outputs": [
    {
     "name": "stderr",
     "output_type": "stream",
     "text": [
      "100%|██████████| 10000/10000 [00:00<00:00, 51062.68it/s]\n"
     ]
    }
   ],
   "source": [
    "agent = Agent(optimal_policy)\n",
    "\n",
    "history = exp.explore(agent, 10000)"
   ]
  },
  {
   "cell_type": "code",
   "execution_count": 13,
   "metadata": {},
   "outputs": [
    {
     "data": {
      "text/plain": [
       "4.248"
      ]
     },
     "execution_count": 13,
     "metadata": {},
     "output_type": "execute_result"
    }
   ],
   "source": [
    "rewards = [transition[2] for transition in history if transition[-1].terminal]\n",
    "np.mean(rewards)"
   ]
  },
  {
   "cell_type": "code",
   "execution_count": 28,
   "metadata": {},
   "outputs": [
    {
     "data": {
      "text/html": [
       "<div>\n",
       "<style scoped>\n",
       "    .dataframe tbody tr th:only-of-type {\n",
       "        vertical-align: middle;\n",
       "    }\n",
       "\n",
       "    .dataframe tbody tr th {\n",
       "        vertical-align: top;\n",
       "    }\n",
       "\n",
       "    .dataframe thead th {\n",
       "        text-align: right;\n",
       "    }\n",
       "</style>\n",
       "<table border=\"1\" class=\"dataframe\">\n",
       "  <thead>\n",
       "    <tr style=\"text-align: right;\">\n",
       "      <th></th>\n",
       "      <th></th>\n",
       "      <th>0</th>\n",
       "    </tr>\n",
       "  </thead>\n",
       "  <tbody>\n",
       "    <tr>\n",
       "      <th rowspan=\"2\" valign=\"top\">S0</th>\n",
       "      <th>Action \"Бросить\"</th>\n",
       "      <td>2.908324</td>\n",
       "    </tr>\n",
       "    <tr>\n",
       "      <th>Action \"Не бросать\"</th>\n",
       "      <td>0.684311</td>\n",
       "    </tr>\n",
       "    <tr>\n",
       "      <th rowspan=\"2\" valign=\"top\">S1</th>\n",
       "      <th>Action \"Бросить\"</th>\n",
       "      <td>2.760661</td>\n",
       "    </tr>\n",
       "    <tr>\n",
       "      <th>Action \"Не бросать\"</th>\n",
       "      <td>1.402558</td>\n",
       "    </tr>\n",
       "    <tr>\n",
       "      <th rowspan=\"2\" valign=\"top\">S2</th>\n",
       "      <th>Action \"Бросить\"</th>\n",
       "      <td>2.667749</td>\n",
       "    </tr>\n",
       "    <tr>\n",
       "      <th>Action \"Не бросать\"</th>\n",
       "      <td>1.926260</td>\n",
       "    </tr>\n",
       "    <tr>\n",
       "      <th rowspan=\"2\" valign=\"top\">S3</th>\n",
       "      <th>Action \"Бросить\"</th>\n",
       "      <td>2.493393</td>\n",
       "    </tr>\n",
       "    <tr>\n",
       "      <th>Action \"Не бросать\"</th>\n",
       "      <td>2.288320</td>\n",
       "    </tr>\n",
       "    <tr>\n",
       "      <th rowspan=\"2\" valign=\"top\">S4</th>\n",
       "      <th>Action \"Бросить\"</th>\n",
       "      <td>2.784586</td>\n",
       "    </tr>\n",
       "    <tr>\n",
       "      <th>Action \"Не бросать\"</th>\n",
       "      <td>2.967899</td>\n",
       "    </tr>\n",
       "    <tr>\n",
       "      <th rowspan=\"2\" valign=\"top\">S5</th>\n",
       "      <th>Action \"Бросить\"</th>\n",
       "      <td>2.741195</td>\n",
       "    </tr>\n",
       "    <tr>\n",
       "      <th>Action \"Не бросать\"</th>\n",
       "      <td>3.626526</td>\n",
       "    </tr>\n",
       "    <tr>\n",
       "      <th rowspan=\"2\" valign=\"top\">S6</th>\n",
       "      <th>Action \"Бросить\"</th>\n",
       "      <td>2.881336</td>\n",
       "    </tr>\n",
       "    <tr>\n",
       "      <th>Action \"Не бросать\"</th>\n",
       "      <td>4.030373</td>\n",
       "    </tr>\n",
       "    <tr>\n",
       "      <th rowspan=\"2\" valign=\"top\">Терминальное состояние</th>\n",
       "      <th>Action \"Бросить\"</th>\n",
       "      <td>0.104946</td>\n",
       "    </tr>\n",
       "    <tr>\n",
       "      <th>Action \"Не бросать\"</th>\n",
       "      <td>0.821473</td>\n",
       "    </tr>\n",
       "  </tbody>\n",
       "</table>\n",
       "</div>"
      ],
      "text/plain": [
       "                                                   0\n",
       "S0                     Action \"Бросить\"     2.908324\n",
       "                       Action \"Не бросать\"  0.684311\n",
       "S1                     Action \"Бросить\"     2.760661\n",
       "                       Action \"Не бросать\"  1.402558\n",
       "S2                     Action \"Бросить\"     2.667749\n",
       "                       Action \"Не бросать\"  1.926260\n",
       "S3                     Action \"Бросить\"     2.493393\n",
       "                       Action \"Не бросать\"  2.288320\n",
       "S4                     Action \"Бросить\"     2.784586\n",
       "                       Action \"Не бросать\"  2.967899\n",
       "S5                     Action \"Бросить\"     2.741195\n",
       "                       Action \"Не бросать\"  3.626526\n",
       "S6                     Action \"Бросить\"     2.881336\n",
       "                       Action \"Не бросать\"  4.030373\n",
       "Терминальное состояние Action \"Бросить\"     0.104946\n",
       "                       Action \"Не бросать\"  0.821473"
      ]
     },
     "execution_count": 28,
     "metadata": {},
     "output_type": "execute_result"
    }
   ],
   "source": [
    "ix = list(q.values.keys())\n",
    "ix = pd.MultiIndex.from_tuples(ix)\n",
    "\n",
    "values = list(q.values.values())\n",
    "\n",
    "pd.DataFrame(index=ix, data=values)"
   ]
  },
  {
   "cell_type": "code",
   "execution_count": null,
   "metadata": {},
   "outputs": [],
   "source": []
  }
 ],
 "metadata": {
  "kernelspec": {
   "display_name": "Python 3",
   "language": "python",
   "name": "python3"
  },
  "language_info": {
   "codemirror_mode": {
    "name": "ipython",
    "version": 3
   },
   "file_extension": ".py",
   "mimetype": "text/x-python",
   "name": "python",
   "nbconvert_exporter": "python",
   "pygments_lexer": "ipython3",
   "version": "3.10.2"
  },
  "orig_nbformat": 4
 },
 "nbformat": 4,
 "nbformat_minor": 2
}
