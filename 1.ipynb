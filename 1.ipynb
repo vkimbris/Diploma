{
 "cells": [
  {
   "cell_type": "code",
   "execution_count": 29,
   "metadata": {},
   "outputs": [],
   "source": [
    "import pandas as pd\n",
    "import numpy as np\n",
    "from xgboost import XGBClassifier\n",
    "\n",
    "from sklearn.model_selection import train_test_split\n",
    "from sklearn.metrics import accuracy_score\n",
    "\n",
    "from sklearn.model_selection import GridSearchCV"
   ]
  },
  {
   "cell_type": "code",
   "execution_count": 19,
   "metadata": {
    "collapsed": true,
    "pycharm": {
     "name": "#%%\n"
    }
   },
   "outputs": [],
   "source": [
    "data = pd.read_csv(\"heart.csv\", index_col=0)\n",
    "\n",
    "data[\"age\"] = data.index\n",
    "data.index = range(len(data))\n",
    "\n",
    "X = data.drop(\"output\", axis=1)\n",
    "y = data[\"output\"]\n",
    "\n",
    "X_train, X_test, y_train, y_test = train_test_split(X, y, test_size=0.33)"
   ]
  },
  {
   "cell_type": "code",
   "execution_count": 20,
   "metadata": {
    "collapsed": false,
    "pycharm": {
     "name": "#%%\n"
    }
   },
   "outputs": [],
   "source": [
    "model = XGBClassifier(\n",
    "    objective= 'binary:logistic',\n",
    "    nthread=4,\n",
    "    seed=42\n",
    ")"
   ]
  },
  {
   "cell_type": "code",
   "execution_count": 21,
   "metadata": {},
   "outputs": [],
   "source": [
    "parameters = {\n",
    "    'max_depth': range (2, 10, 1),\n",
    "    'n_estimators': range(60, 220, 40),\n",
    "    'learning_rate': [0.1, 0.01, 0.05]\n",
    "}\n",
    "\n",
    "grid_search = GridSearchCV(\n",
    "    estimator=model,\n",
    "    param_grid=parameters,\n",
    "    scoring='roc_auc',\n",
    "    n_jobs=10,\n",
    "    cv=10,\n",
    "    verbose=True\n",
    ")\n",
    "\n",
    "grid_search.fit(X_train, y_train)\n",
    "\n",
    "best_model = grid_search.best_estimator_"
   ]
  },
  {
   "cell_type": "code",
   "execution_count": 31,
   "metadata": {},
   "outputs": [
    {
     "data": {
      "text/plain": [
       "array([0, 1, 0, 1, 0, 1, 0, 1, 1, 0, 0, 0, 0, 1, 0, 1, 0, 0, 1, 0, 1, 0,\n",
       "       1, 0, 0, 0, 0, 0, 0, 1, 1, 1, 1, 1, 1, 0, 0, 1, 1, 0, 0, 1, 0, 1,\n",
       "       1, 0, 1, 0, 1, 0, 1, 1, 1, 0, 1, 0, 0, 1, 1, 1, 0, 1, 1, 0, 1, 1,\n",
       "       1, 1, 1, 0, 1, 0, 1, 1, 1, 0, 1, 0, 1, 0, 0, 1, 1, 0, 0, 0, 1, 0,\n",
       "       1, 1, 0, 1, 1, 1, 1, 1, 0, 1, 1, 1])"
      ]
     },
     "execution_count": 31,
     "metadata": {},
     "output_type": "execute_result"
    }
   ],
   "source": [
    "prediction = best_model.predict(X_test)\n",
    "prediction"
   ]
  },
  {
   "cell_type": "code",
   "execution_count": 34,
   "metadata": {},
   "outputs": [
    {
     "data": {
      "text/plain": [
       "array([0.10866175, 0.57038313, 0.02858287, 0.96986896, 0.46750018,\n",
       "       0.9097626 , 0.17987405, 0.9436689 , 0.6458603 , 0.04746833,\n",
       "       0.06273849, 0.06189865, 0.42763665, 0.8104258 , 0.03655528,\n",
       "       0.98549694, 0.22280906, 0.49866745, 0.62333757, 0.04015618,\n",
       "       0.98459715, 0.29236513, 0.94624865, 0.45595643, 0.07949298,\n",
       "       0.07292709, 0.07747218, 0.18445781, 0.02740588, 0.85481465,\n",
       "       0.9744819 , 0.9518455 , 0.610071  , 0.70655745, 0.5865048 ,\n",
       "       0.33167297, 0.05090255, 0.50548506, 0.9479781 , 0.04241505,\n",
       "       0.40234733, 0.76954114, 0.3789977 , 0.7550168 , 0.8156378 ,\n",
       "       0.02262044, 0.9793506 , 0.09185307, 0.7409831 , 0.420089  ,\n",
       "       0.64316064, 0.98549694, 0.7602962 , 0.15543514, 0.578574  ,\n",
       "       0.04664843, 0.06406511, 0.5309286 , 0.98549694, 0.93505913,\n",
       "       0.29097277, 0.5257172 , 0.81233644, 0.02654627, 0.9268592 ,\n",
       "       0.80177045, 0.53007215, 0.65902066, 0.66630435, 0.21481383,\n",
       "       0.8922502 , 0.4187577 , 0.91661215, 0.516734  , 0.5306655 ,\n",
       "       0.28865743, 0.6576917 , 0.4715541 , 0.8682565 , 0.15146016,\n",
       "       0.35167462, 0.88205636, 0.94786245, 0.27746928, 0.0608454 ,\n",
       "       0.05990561, 0.8218582 , 0.09898696, 0.9809413 , 0.88160324,\n",
       "       0.04251894, 0.5740988 , 0.91084933, 0.5410939 , 0.93860483,\n",
       "       0.8784939 , 0.42199275, 0.9236309 , 0.5225484 , 0.69088066],\n",
       "      dtype=float32)"
      ]
     },
     "execution_count": 34,
     "metadata": {},
     "output_type": "execute_result"
    }
   ],
   "source": [
    "probs = best_model.predict_proba(X_test)[:, 1]\n",
    "probs"
   ]
  },
  {
   "cell_type": "code",
   "execution_count": 64,
   "metadata": {},
   "outputs": [],
   "source": [
    "row = pd.DataFrame([[1, 0, 100, 200, 0, 1, 140, 1, 0.8, 1, 1, 2, 90]], columns=X.columns)"
   ]
  },
  {
   "cell_type": "code",
   "execution_count": 70,
   "metadata": {},
   "outputs": [
    {
     "name": "stdout",
     "output_type": "stream",
     "text": [
      "Вероятность инсульта у пациента: 15.74%\n"
     ]
    }
   ],
   "source": [
    "print(\"Вероятность инсульта у пациента: {0:.2f}%\".format(best_model.predict_proba(row)[:, 1][0] * 100))"
   ]
  },
  {
   "cell_type": "code",
   "execution_count": null,
   "metadata": {},
   "outputs": [],
   "source": []
  }
 ],
 "metadata": {
  "kernelspec": {
   "display_name": "Python 3",
   "language": "python",
   "name": "python3"
  },
  "language_info": {
   "codemirror_mode": {
    "name": "ipython",
    "version": 3
   },
   "file_extension": ".py",
   "mimetype": "text/x-python",
   "name": "python",
   "nbconvert_exporter": "python",
   "pygments_lexer": "ipython3",
   "version": "3.10.2"
  }
 },
 "nbformat": 4,
 "nbformat_minor": 0
}
