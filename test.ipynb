{
 "cells": [
  {
   "cell_type": "code",
   "execution_count": 8,
   "metadata": {
    "collapsed": true
   },
   "outputs": [],
   "source": [
    "import torch\n",
    "import torch.nn as nn\n",
    "\n",
    "import matplotlib.pyplot as plt\n",
    "\n",
    "from torch.optim import Adam\n",
    "from torch.nn import MSELoss\n",
    "\n",
    "from pyrl.agents import Agent, EpsilonGreedyAgent\n",
    "from pyrl.environments import TicTacToe\n",
    "from pyrl.algorithms.value import QLearning\n",
    "\n",
    "from pyrl.experiment import Experiment"
   ]
  },
  {
   "cell_type": "code",
   "execution_count": 9,
   "outputs": [],
   "source": [
    "class DQN(nn.Module):\n",
    "    def __init__(self):\n",
    "        super(DQN, self).__init__()\n",
    "\n",
    "        self.linear = nn.Sequential(\n",
    "            nn.Linear(9, 32),\n",
    "            nn.Tanh(),\n",
    "            nn.Linear(32, 9),\n",
    "            nn.Tanh(),\n",
    "        )\n",
    "\n",
    "    def forward(self, x):\n",
    "        return self.linear(x)"
   ],
   "metadata": {
    "collapsed": false
   }
  },
  {
   "cell_type": "code",
   "execution_count": 10,
   "outputs": [],
   "source": [
    "dqn = DQN()\n",
    "\n",
    "# create algorithm\n",
    "q_learning = QLearning(network=dqn,\n",
    "                       gamma=1,\n",
    "                       optimizer=Adam(params=dqn.parameters(), lr=1e-2),\n",
    "                       loss_func=MSELoss())\n",
    "\n",
    "agent = Agent(q_learning)\n",
    "\n",
    "env = TicTacToe(player=agent, first=True)\n",
    "\n",
    "exp = Experiment(agent=agent, environment=env)"
   ],
   "metadata": {
    "collapsed": false
   }
  },
  {
   "cell_type": "code",
   "execution_count": null,
   "outputs": [
    {
     "name": "stderr",
     "output_type": "stream",
     "text": [
      "  3%|▎         | 26778/1000000 [02:24<1:22:10, 197.40it/s]"
     ]
    }
   ],
   "source": [
    "params = {\n",
    "    \"n_epochs\": 1_000_000,\n",
    "    \"n_iter\": 1_000,\n",
    "    \"batch_size\": 10,\n",
    "    \"eps_start\": 1.0,\n",
    "    \"eps_end\": 0.001,\n",
    "    \"n_target_train\": 100\n",
    "}\n",
    "\n",
    "agent, rewards = exp.explore(params=params, progress=True, visualize=False)\n",
    "\n",
    "plt.plot(rewards)\n",
    "plt.show()"
   ],
   "metadata": {
    "collapsed": false,
    "pycharm": {
     "is_executing": true
    }
   }
  },
  {
   "cell_type": "code",
   "execution_count": null,
   "outputs": [],
   "source": [
    "params[\"eps_start\"] = 0\n",
    "params[\"n_epochs\"] = 10\n",
    "\n",
    "_,rewards = exp.explore(params=params, progress=False, visualize=True)"
   ],
   "metadata": {
    "collapsed": false,
    "pycharm": {
     "is_executing": true
    }
   }
  },
  {
   "cell_type": "code",
   "execution_count": null,
   "outputs": [],
   "source": [],
   "metadata": {
    "collapsed": false,
    "pycharm": {
     "is_executing": true
    }
   }
  }
 ],
 "metadata": {
  "kernelspec": {
   "display_name": "Python 3",
   "language": "python",
   "name": "python3"
  },
  "language_info": {
   "codemirror_mode": {
    "name": "ipython",
    "version": 2
   },
   "file_extension": ".py",
   "mimetype": "text/x-python",
   "name": "python",
   "nbconvert_exporter": "python",
   "pygments_lexer": "ipython2",
   "version": "2.7.6"
  }
 },
 "nbformat": 4,
 "nbformat_minor": 0
}
