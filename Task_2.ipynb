{
 "cells": [
  {
   "cell_type": "code",
   "execution_count": 1,
   "metadata": {},
   "outputs": [],
   "source": [
    "import numpy as np\n",
    "import matplotlib.pyplot as plt\n",
    "\n",
    "from typing import List"
   ]
  },
  {
   "cell_type": "code",
   "execution_count": 21,
   "metadata": {},
   "outputs": [],
   "source": [
    "def lehmer_generator(u0: int, m: int, c: int, p: int, max_iter: int = 10_000) -> List[int]:\n",
    "    u = u0\n",
    "    for _ in range(max_iter):\n",
    "        yield u\n",
    "        u = (u * m + c) % p\n",
    "    yield u\n",
    "\n",
    "\n",
    "def test_unicable(values: List[int]) -> bool:\n",
    "    return len(set(values)) == len(values)\n",
    "\n",
    "\n",
    "def test_randomness(values: List[int], values_median: float) -> float:\n",
    "    runs, n1, n2 = 0, 0, 0\n",
    "      \n",
    "    for i in range(len(values)):\n",
    "        if (values[i] >= values_median and values[i-1] < values_median) or (values[i] < values_median and values[i-1] >= values_median):\n",
    "            runs += 1  \n",
    "          \n",
    "        if(values[i]) >= values_median:\n",
    "            n1 += 1   \n",
    "          \n",
    "        else:\n",
    "            n2 += 1   \n",
    "  \n",
    "    runs_exp = ((2 * n1 * n2) / (n1 + n2)) + 1\n",
    "    stan_dev = np.sqrt((2 * n1 * n2 * (2 * n1 * n2 - n1 - n2)) / (((n1 + n2) ** 2) * (n1 + n2 - 1)))\n",
    "    \n",
    "    return (runs - runs_exp) / stan_dev\n"
   ]
  },
  {
   "cell_type": "code",
   "execution_count": 22,
   "metadata": {},
   "outputs": [],
   "source": [
    "values = list(list(lehmer_generator(112312, 2312321, 331213, 20000)))"
   ]
  },
  {
   "cell_type": "code",
   "execution_count": 27,
   "metadata": {},
   "outputs": [
    {
     "name": "stdout",
     "output_type": "stream",
     "text": [
      "Все элементы уникальны - Да\n"
     ]
    }
   ],
   "source": [
    "unicable = test_unicable(values)\n",
    "\n",
    "print(f'Все элементы уникальны - {\"Да\" if unicable else \"Нет\"}')"
   ]
  },
  {
   "cell_type": "code",
   "execution_count": 28,
   "metadata": {},
   "outputs": [
    {
     "name": "stdout",
     "output_type": "stream",
     "text": [
      "Значения последовательности случайны\n"
     ]
    }
   ],
   "source": [
    "z = test_randomness(values, np.median(values))\n",
    "\n",
    "if np.abs(z) > 1.96:\n",
    "    print(\"Значения последовательности неслучайны\")\n",
    "else:\n",
    "    print(\"Значения последовательности случайны\")"
   ]
  },
  {
   "cell_type": "code",
   "execution_count": 29,
   "metadata": {},
   "outputs": [
    {
     "data": {
      "image/png": "[encoded data removed]",
      "text/plain": [
       "<Figure size 432x288 with 1 Axes>"
      ]
     },
     "metadata": {
      "needs_background": "light"
     },
     "output_type": "display_data"
    }
   ],
   "source": [
    "plt.hist(values, bins=45)\n",
    "plt.show()"
   ]
  },
  {
   "cell_type": "code",
   "execution_count": null,
   "metadata": {},
   "outputs": [],
   "source": []
  }
 ],
 "metadata": {
  "kernelspec": {
   "display_name": "Python 3.9.1 64-bit",
   "language": "python",
   "name": "python3"
  },
  "language_info": {
   "codemirror_mode": {
    "name": "ipython",
    "version": 3
   },
   "file_extension": ".py",
   "mimetype": "text/x-python",
   "name": "python",
   "nbconvert_exporter": "python",
   "pygments_lexer": "ipython3",
   "version": "3.10.2"
  },
  "orig_nbformat": 4,
  "vscode": {
   "interpreter": {
    "hash": "aee8b7b246df8f9039afb4144a1f6fd8d2ca17a180786b69acc140d282b71a49"
   }
  }
 },
 "nbformat": 4,
 "nbformat_minor": 2
}
